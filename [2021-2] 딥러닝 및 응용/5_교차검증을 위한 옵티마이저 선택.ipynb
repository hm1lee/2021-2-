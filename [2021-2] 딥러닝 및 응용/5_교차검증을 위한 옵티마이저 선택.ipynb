{
  "nbformat": 4,
  "nbformat_minor": 0,
  "metadata": {
    "colab": {
      "name": "5week-assignment.ipynb",
      "provenance": []
    },
    "kernelspec": {
      "name": "python3",
      "display_name": "Python 3"
    },
    "language_info": {
      "name": "python"
    }
  },
  "cells": [
    {
      "cell_type": "markdown",
      "metadata": {
        "id": "Sw8mSdifUDxU"
      },
      "source": [
        "**교차검증을 이용한 하이퍼 매개변수 최적화**"
      ]
    },
    {
      "cell_type": "code",
      "metadata": {
        "id": "gvTEoYC5T9a0"
      },
      "source": [
        "import numpy as np\n",
        "import tensorflow as tf\n",
        "from tensorflow.keras.datasets import fashion_mnist\n",
        "from tensorflow.keras.models import Sequential\n",
        "\n",
        "from tensorflow.keras.layers import Dense\n",
        "from tensorflow.keras.optimizers import SGD, Adam, Adagrad, RMSprop\n",
        "from sklearn.model_selection import KFold"
      ],
      "execution_count": 5,
      "outputs": []
    },
    {
      "cell_type": "code",
      "metadata": {
        "colab": {
          "base_uri": "https://localhost:8080/"
        },
        "id": "hEHDuWQ8UVrM",
        "outputId": "9d91ef11-cdc6-4955-8f57-092fb899c935"
      },
      "source": [
        "# fasion_mnist를 읽고 신경망에 입력할 형태로 변환\n",
        "\n",
        "(x_train, y_train), (x_test, y_test) = fashion_mnist.load_data()\n",
        "x_train = x_train.reshape(60000, 784)\n",
        "x_test = x_test.reshape(10000,784)\n",
        "\n",
        "x_train = x_train.astype(np.float32)/255.0\n",
        "x_test = x_test.astype(np.float32)/255.0\n",
        "\n",
        "y_train = tf.keras.utils.to_categorical(y_train, 10)\n",
        "y_test = tf.keras.utils.to_categorical(y_test, 10)"
      ],
      "execution_count": 6,
      "outputs": [
        {
          "output_type": "stream",
          "name": "stdout",
          "text": [
            "Downloading data from https://storage.googleapis.com/tensorflow/tf-keras-datasets/train-labels-idx1-ubyte.gz\n",
            "32768/29515 [=================================] - 0s 0us/step\n",
            "40960/29515 [=========================================] - 0s 0us/step\n",
            "Downloading data from https://storage.googleapis.com/tensorflow/tf-keras-datasets/train-images-idx3-ubyte.gz\n",
            "26427392/26421880 [==============================] - 0s 0us/step\n",
            "26435584/26421880 [==============================] - 0s 0us/step\n",
            "Downloading data from https://storage.googleapis.com/tensorflow/tf-keras-datasets/t10k-labels-idx1-ubyte.gz\n",
            "16384/5148 [===============================================================================================] - 0s 0us/step\n",
            "Downloading data from https://storage.googleapis.com/tensorflow/tf-keras-datasets/t10k-images-idx3-ubyte.gz\n",
            "4423680/4422102 [==============================] - 0s 0us/step\n",
            "4431872/4422102 [==============================] - 0s 0us/step\n"
          ]
        }
      ]
    },
    {
      "cell_type": "code",
      "metadata": {
        "id": "PuoXVbiYVOIZ"
      },
      "source": [
        "# 신경망 구조 설정\n",
        "\n",
        "n_input=784\n",
        "n_hidden1=1024\n",
        "n_hidden2=512\n",
        "n_hidden3=512\n",
        "n_hidden4=512\n",
        "n_output=10"
      ],
      "execution_count": 8,
      "outputs": []
    },
    {
      "cell_type": "code",
      "metadata": {
        "id": "wYxJDT5LVZAa"
      },
      "source": [
        "# 하이퍼 매개변수 설정\n",
        "\n",
        "batch_size=256\n",
        "n_epoch = 20\n",
        "k = 5  #5겹"
      ],
      "execution_count": 10,
      "outputs": []
    },
    {
      "cell_type": "code",
      "metadata": {
        "id": "ZEDJ03kPViiV"
      },
      "source": [
        "# 모델을 설계해주는 함수 (모델을 나타내는 객체 model을 반환)\n",
        "\n",
        "def build_model():\n",
        "  model=Sequential()\n",
        "  model.add(Dense(utils=n_hidden1,activation='relu',input_shape=(n_input,)))\n",
        "  model.add(Dense(utils=n_hidden2,activation='relu'))\n",
        "  model.add(Dense(utils=n_hidden3,activation='relu'))\n",
        "  model.add(Dense(utils=n_hidden4,activation='relu'))\n",
        "  model.add(Dense(utils=n_output, activation='softmax'))\n",
        "  return model"
      ],
      "execution_count": 12,
      "outputs": []
    },
    {
      "cell_type": "code",
      "metadata": {
        "id": "-R4k3cCIV_CT"
      },
      "source": [
        "# 교차 검증을 해주는 함수(서로 다른 옵티마이저(opt)에 대해서)\n",
        "\n",
        "def cross_validation(opt): #opt에 함수 넣기\n",
        "  accuracy=[]ㄴ\n",
        "  for train_index, val_index in KFold(k).split(x_train):\n"
      ],
      "execution_count": null,
      "outputs": []
    }
  ]
}