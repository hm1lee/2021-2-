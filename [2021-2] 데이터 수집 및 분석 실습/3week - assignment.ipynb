{
  "nbformat": 4,
  "nbformat_minor": 0,
  "metadata": {
    "colab": {
      "name": "3week-assignment.ipynb",
      "provenance": [],
      "collapsed_sections": []
    },
    "kernelspec": {
      "name": "python3",
      "display_name": "Python 3"
    },
    "language_info": {
      "name": "python"
    }
  },
  "cells": [
    {
      "cell_type": "markdown",
      "metadata": {
        "id": "6kVO9GU7OqUO"
      },
      "source": [
        "### 3주차 퀴즈 (데이터 수집 및 분석 실습)"
      ]
    },
    {
      "cell_type": "markdown",
      "metadata": {
        "id": "Qq1LrqQGOPRJ"
      },
      "source": [
        "문제 1. requests 모듈을 사용하여 soup객체를 생성하는 코드를 완성하시오."
      ]
    },
    {
      "cell_type": "code",
      "metadata": {
        "id": "Wh_RNRhoOPei"
      },
      "source": [
        "import requests\n",
        "import bs4\n",
        "\n",
        "url = \"https://news.v.daum.net/v/20210904181034626\"\n",
        "res = requests.get(url)\n",
        "html_text = res.text\n",
        "soup = bs4.BeautifulSoup(html_text,\"html.parser\")\n"
      ],
      "execution_count": 10,
      "outputs": []
    },
    {
      "cell_type": "markdown",
      "metadata": {
        "id": "TuiWmEHBN0xX"
      },
      "source": [
        "문제2. URL = \"https://news.v.daum.net/v/20210915101730207\"에 해당하는 웹페이지에는 로고를 제외하고 본문 이미지가 두 개가 있다. \n",
        "\n",
        "이 두 개의 이미지 태그를 리스트 객체로 반환하는 코드를 완성하시오."
      ]
    },
    {
      "cell_type": "code",
      "metadata": {
        "colab": {
          "base_uri": "https://localhost:8080/"
        },
        "id": "pPGkEpECLXxG",
        "outputId": "2b9ac684-819b-4f40-bcad-59c40904ba78"
      },
      "source": [
        "import requests\n",
        "import bs4 \n",
        "\n",
        "url = \"https://news.v.daum.net/v/20210915101730207\"\n",
        "res = requests.get(url)\n",
        "html_text = res.text\n",
        "\n",
        "soup = bs4.BeautifulSoup(html_text, \"html.parser\")\n",
        "tag_list = soup.select('img.thumb_g_article')\n",
        "tag_list"
      ],
      "execution_count": 9,
      "outputs": [
        {
          "output_type": "execute_result",
          "data": {
            "text/plain": [
              "[<img alt=\"세계 최대 소셜미디어 페이스북이 자회사인 인스타그램 앱이 10대 청소년들의 정신 건강에 유해하다는 사실을 알면서도 쉬쉬했던 것으로 드러나 파문이 일고 있다. 사진은 인스타그램 로고 앞에서 스마트폰을 이용하는 사람들. [로이터]\" class=\"thumb_g_article\" data-org-src=\"https://t1.daumcdn.net/news/202109/15/ned/20210915101731446woke.jpg\" data-org-width=\"1280\" dmcf-mid=\"kQBbf5k2CE\" dmcf-mtype=\"image\" height=\"auto\" src=\"https://img3.daumcdn.net/thumb/R658x0.q70/?fname=https://t1.daumcdn.net/news/202109/15/ned/20210915101731446woke.jpg\" width=\"658\"/>,\n",
              " <img alt=\"출처: 2019년 페이스북 내부 문건\" class=\"thumb_g_article\" data-org-src=\"https://t1.daumcdn.net/news/202109/15/ned/20210915101732782wlpp.jpg\" data-org-width=\"678\" dmcf-mid=\"k2gUjGYvJ2\" dmcf-mtype=\"image\" height=\"auto\" src=\"https://img4.daumcdn.net/thumb/R658x0.q70/?fname=https://t1.daumcdn.net/news/202109/15/ned/20210915101732782wlpp.jpg\" width=\"658\"/>]"
            ]
          },
          "metadata": {},
          "execution_count": 9
        }
      ]
    },
    {
      "cell_type": "markdown",
      "metadata": {
        "id": "nOy25qoMOWE5"
      },
      "source": [
        "문제 3. 해당 URL = \"https://news.v.daum.net/v/20210915101730207\"에 select_one()메서드를 사용하여 두 번째 이미지를 \"image2.jpg\"로 다운받는 코드를 완성하시오."
      ]
    },
    {
      "cell_type": "code",
      "metadata": {
        "colab": {
          "base_uri": "https://localhost:8080/"
        },
        "id": "o1Nlcd2COuT_",
        "outputId": "b3d1d5d5-9327-4119-e6e0-d775dc6600ad"
      },
      "source": [
        "import requests\n",
        "import bs4\n",
        "import urllib.request\n",
        "\n",
        "url = \"https://news.v.daum.net/v/20210915101730207\"\n",
        "res = requests.get(url)\n",
        "html_text = res.text\n",
        "\n",
        "soup = bs4.BeautifulSoup(html_text, \"html.parser\")\n",
        "tag = soup.select_one(\"section > figure:nth-of-type(2) img\")\n",
        "src = tag[\"src\"]\n",
        "urllib.request.urlretrieve(src,\"image2.jpg\")"
      ],
      "execution_count": 16,
      "outputs": [
        {
          "output_type": "execute_result",
          "data": {
            "text/plain": [
              "('image2.jpg', <http.client.HTTPMessage at 0x7f79eba06d50>)"
            ]
          },
          "metadata": {},
          "execution_count": 16
        }
      ]
    },
    {
      "cell_type": "markdown",
      "metadata": {
        "id": "ma3JfOf8RanL"
      },
      "source": [
        "문제 4. 위의 답변과 같은 2번째 이미지를 저장하는 코드를 find() 이용해서 작성하려 한다.\n",
        "\n",
        "이때 <img>태그의 alt,class,dmcf-mid 속성을 사용하여 두번째 이미지를 선택하는 코드를 작성하세요."
      ]
    },
    {
      "cell_type": "code",
      "metadata": {
        "colab": {
          "base_uri": "https://localhost:8080/",
          "height": 35
        },
        "id": "_KppzAiIMtLh",
        "outputId": "aaa7d7c0-1c04-4d53-e342-0cdc85290884"
      },
      "source": [
        "import requests\n",
        "import bs4\n",
        "\n",
        "\n",
        "url = \"https://news.v.daum.net/v/20210915101730207\"\n",
        "\n",
        "res = requests.get(url)\n",
        "html_text = res.text #res.text를 통해서 html 소스코드를 문자로 반환\n",
        "\n",
        "soup = bs4.BeautifulSoup(html_text, \"html.parser\") # 특정 객체를 생성하는 명령어\n",
        "# tag = soup.select_one(\"h3.tit_view\") -> \"h3.tit_view\"  : css_선택자\n",
        "tag = soup.find(\"img\",{\"alt\":\"출처: 2019년 페이스북 내부 문건\",\"class\":\"thumb_g_article\",\"dmcf-mid\":\"k2gUjGYvJ2\"})\n",
        "src = tag[\"src\"]\n",
        "src"
      ],
      "execution_count": 25,
      "outputs": [
        {
          "output_type": "execute_result",
          "data": {
            "application/vnd.google.colaboratory.intrinsic+json": {
              "type": "string"
            },
            "text/plain": [
              "'https://img4.daumcdn.net/thumb/R658x0.q70/?fname=https://t1.daumcdn.net/news/202109/15/ned/20210915101732782wlpp.jpg'"
            ]
          },
          "metadata": {},
          "execution_count": 25
        }
      ]
    },
    {
      "cell_type": "markdown",
      "metadata": {
        "id": "5sqF7GE8SD1i"
      },
      "source": [
        "문제 5. 해당 URL : https://news.v.daum.net/v/20210915101730207에 대하여 아래와 같은 작업을 진행하시오. \n",
        "\n",
        "해당 URL의 첫번째 이미지에 대한 설명(세계 최대 소셜미디어 페이스북이 자회사인 인스타그램 앱이 10대 청소년들의 정신 건강에 유해하다는 사실을 알면서도 쉬쉬했던 것으로 드러나 파문이 일고 있다. 사진은 인스타그램 로고 앞에서 스마트폰을 이용하는 사람들. [로이터])을 크롤링하려고 한다. 이때 두 가지 방법이 있는데, \n",
        "* 첫번째 방법은 <img>태그의 alt 속성의 값을 크롤링 하는 것\n",
        "* 두번째 방법은 \\<figcaption> 태그에 접근하여 텍스트 내용을 크롤링하는 것이다. \n",
        "* 두 가지 방법을 모두 사용하여 코드를 완성하시오.\n"
      ]
    },
    {
      "cell_type": "code",
      "metadata": {
        "colab": {
          "base_uri": "https://localhost:8080/",
          "height": 52
        },
        "id": "niHIu_cnS69m",
        "outputId": "3e072dd7-fa9f-4c25-cb23-cb862d17d6c8"
      },
      "source": [
        "# 첫번째 방법\n",
        "\n",
        "import requests\n",
        "import bs4\n",
        "\n",
        "url = \"https://news.v.daum.net/v/20210915101730207\"\n",
        "res = requests.get(url)\n",
        "html_text = res.text\n",
        "soup = bs4.BeautifulSoup(html_text, 'html.parser')\n",
        "tag = soup.select_one('img.thumb_g_article')\n",
        "alt = tag[\"alt\"] \n",
        "alt"
      ],
      "execution_count": 48,
      "outputs": [
        {
          "output_type": "execute_result",
          "data": {
            "application/vnd.google.colaboratory.intrinsic+json": {
              "type": "string"
            },
            "text/plain": [
              "'세계 최대 소셜미디어 페이스북이 자회사인 인스타그램 앱이 10대 청소년들의 정신 건강에 유해하다는 사실을 알면서도 쉬쉬했던 것으로 드러나 파문이 일고 있다. 사진은 인스타그램 로고 앞에서 스마트폰을 이용하는 사람들. [로이터]'"
            ]
          },
          "metadata": {},
          "execution_count": 48
        }
      ]
    },
    {
      "cell_type": "code",
      "metadata": {
        "colab": {
          "base_uri": "https://localhost:8080/",
          "height": 52
        },
        "id": "hJck77a9WUI6",
        "outputId": "ce0e9b57-3110-44eb-fb39-a20491497d24"
      },
      "source": [
        "# 두번째 방법 \n",
        "\n",
        "\n",
        "tag = soup.select_one(\"section > figure:nth-of-type(1) figcaption\")\n",
        "text = tag.text\n",
        "text"
      ],
      "execution_count": 56,
      "outputs": [
        {
          "output_type": "execute_result",
          "data": {
            "application/vnd.google.colaboratory.intrinsic+json": {
              "type": "string"
            },
            "text/plain": [
              "'\\n            세계 최대 소셜미디어 페이스북이 자회사인 인스타그램 앱이 10대 청소년들의 정신 건강에 유해하다는 사실을 알면서도 쉬쉬했던 것으로 드러나 파문이 일고 있다. 사진은 인스타그램 로고 앞에서 스마트폰을 이용하는 사람들. [로이터]\\n           '"
            ]
          },
          "metadata": {},
          "execution_count": 56
        }
      ]
    },
    {
      "cell_type": "markdown",
      "metadata": {
        "id": "SyFGAJ_MTnnR"
      },
      "source": [
        "문제 6. 해당 URL (https://news.v.daum.net/v/20210915101730207)에 대해서 웹 페이지 말미에 soohan@heraldcorp.com이라는 메일 주소가 나온다. 이를 크롤링 하기 위한 코드를 완성하여라.\n",
        "\n",
        "\n",
        "* 힌트) 코드 구조를 파악하여 해당 \\<p>태그가 \\<section> 태그의 볓 번째 자식 요소인지 확인한다."
      ]
    },
    {
      "cell_type": "code",
      "metadata": {
        "id": "I_TtUvEzS61v"
      },
      "source": [
        "import requests\n",
        "import bs4\n",
        "import urllib.request\n",
        "\n",
        "url = \"https://news.v.daum.net/v/20210915101730207\"\n",
        "res = requests.get(url)\n",
        "html_text = res.text\n",
        "\n",
        "soup = bs4.BeautifulSoup(html_text, \"html.parser\")\n",
        "tag = soup.select_one(\"section > p:nth-of-type(14) \")\n",
        "text = tag.text"
      ],
      "execution_count": 37,
      "outputs": []
    },
    {
      "cell_type": "markdown",
      "metadata": {
        "id": "dAIIMFmRTVfw"
      },
      "source": [
        "문제 7. 해당 URL (https://news.v.daum.net/v/20210915101730207) 에 대해서 웹 페이지 맨 위쪽에 입력시간( 입력 2021. 09. 15. 10:17 ) 에 대해서 적절한 선택자를 생각하여 코드를 완성하시오."
      ]
    },
    {
      "cell_type": "code",
      "metadata": {
        "colab": {
          "base_uri": "https://localhost:8080/",
          "height": 35
        },
        "id": "6pTp54LyQA2q",
        "outputId": "60b9e34e-f40b-4a9b-9006-052d80693be7"
      },
      "source": [
        "import requests\n",
        "import bs4\n",
        "\n",
        "\n",
        "url = \"https://news.v.daum.net/v/20210915101730207\"\n",
        "\n",
        "res = requests.get(url)\n",
        "html_text = res.text #res.text를 통해서 html 소스코드를 문자로 반환\n",
        "\n",
        "soup = bs4.BeautifulSoup(html_text, \"html.parser\") # 특정 객체를 생성하는 명령어\n",
        "# tag = soup.select_one(\"h3.tit_view\") -> \"h3.tit_view\"  : css_선택자\n",
        "tag = soup.select_one('span.txt_info')\n",
        "text = tag.text"
      ],
      "execution_count": 27,
      "outputs": [
        {
          "output_type": "execute_result",
          "data": {
            "application/vnd.google.colaboratory.intrinsic+json": {
              "type": "string"
            },
            "text/plain": [
              "'입력 2021. 09. 15. 10:17'"
            ]
          },
          "metadata": {},
          "execution_count": 27
        }
      ]
    },
    {
      "cell_type": "code",
      "metadata": {
        "id": "FQUcsGoRTGHB"
      },
      "source": [
        ""
      ],
      "execution_count": null,
      "outputs": []
    }
  ]
}