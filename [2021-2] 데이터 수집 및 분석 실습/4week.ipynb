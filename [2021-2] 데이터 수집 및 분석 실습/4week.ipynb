{
  "nbformat": 4,
  "nbformat_minor": 0,
  "metadata": {
    "colab": {
      "name": "4week.ipynb",
      "provenance": []
    },
    "kernelspec": {
      "name": "python3",
      "display_name": "Python 3"
    },
    "language_info": {
      "name": "python"
    }
  },
  "cells": [
    {
      "cell_type": "code",
      "metadata": {
        "colab": {
          "base_uri": "https://localhost:8080/"
        },
        "id": "kW0vWJHXcYjs",
        "outputId": "3dcb8a4d-f342-48f3-bb4e-f360b126b5a3"
      },
      "source": [
        "import requests\n",
        "import bs4\n",
        "import urllib.request\n",
        "\n",
        "url = \"https://news.v.daum.net/v/20210915101730207\"\n",
        "res = requests.get(url)\n",
        "html_text = res.text\n",
        "\n",
        "soup = bs4.BeautifulSoup(html_text, \"html.parser\")\n",
        "tag_list = soup.select(\".thumb_g_article\")\n",
        "\n",
        "print(tag_list[0])"
      ],
      "execution_count": null,
      "outputs": [
        {
          "output_type": "stream",
          "name": "stdout",
          "text": [
            "<img alt=\"세계 최대 소셜미디어 페이스북이 자회사인 인스타그램 앱이 10대 청소년들의 정신 건강에 유해하다는 사실을 알면서도 쉬쉬했던 것으로 드러나 파문이 일고 있다. 사진은 인스타그램 로고 앞에서 스마트폰을 이용하는 사람들. [로이터]\" class=\"thumb_g_article\" data-org-src=\"https://t1.daumcdn.net/news/202109/15/ned/20210915101731446woke.jpg\" data-org-width=\"1280\" dmcf-mid=\"kQBbf5k2CE\" dmcf-mtype=\"image\" height=\"auto\" src=\"https://img4.daumcdn.net/thumb/R658x0.q70/?fname=https://t1.daumcdn.net/news/202109/15/ned/20210915101731446woke.jpg\" width=\"658\"/>\n"
          ]
        }
      ]
    },
    {
      "cell_type": "code",
      "metadata": {
        "colab": {
          "base_uri": "https://localhost:8080/"
        },
        "id": "kwxj2ZjfgUJ9",
        "outputId": "65ca5d53-4937-424a-b61c-4500fed21601"
      },
      "source": [
        "print(tag_list[0][\"src\"])"
      ],
      "execution_count": null,
      "outputs": [
        {
          "output_type": "stream",
          "name": "stdout",
          "text": [
            "https://img4.daumcdn.net/thumb/R658x0.q70/?fname=https://t1.daumcdn.net/news/202109/15/ned/20210915101731446woke.jpg\n"
          ]
        }
      ]
    },
    {
      "cell_type": "code",
      "metadata": {
        "colab": {
          "base_uri": "https://localhost:8080/"
        },
        "id": "_L2DrWPjgdzY",
        "outputId": "5e896a33-bc89-42eb-ba5d-6b84bbe51971"
      },
      "source": [
        "print(tag_list[1][\"src\"])"
      ],
      "execution_count": null,
      "outputs": [
        {
          "output_type": "stream",
          "name": "stdout",
          "text": [
            "https://img1.daumcdn.net/thumb/R658x0.q70/?fname=https://t1.daumcdn.net/news/202109/15/ned/20210915101732782wlpp.jpg\n"
          ]
        }
      ]
    },
    {
      "cell_type": "code",
      "metadata": {
        "id": "MLqRFmscghjE"
      },
      "source": [
        "import os\n",
        "# for문으로 img 저장하기\n",
        "\n",
        "for x in tag_list:\n",
        "  src = x[\"src\"]\n",
        "  baseurl = os.path.basename(src)\n",
        "  urllib.request.urlretrieve(src, baseurl) #os.path.basename은 파일의 마지막 /이후 부분을 파싱함\n",
        "  "
      ],
      "execution_count": null,
      "outputs": []
    },
    {
      "cell_type": "markdown",
      "metadata": {
        "id": "Ii2TjMbPuCrP"
      },
      "source": [
        "## 실습 과제 Quiz"
      ]
    },
    {
      "cell_type": "markdown",
      "metadata": {
        "id": "v-IiA8foxwvP"
      },
      "source": [
        "**2번 문제**"
      ]
    },
    {
      "cell_type": "code",
      "metadata": {
        "id": "wfT8rox9xw6r"
      },
      "source": [
        "import requests\n",
        "import bs4\n",
        "\n",
        "url =  'https://news.v.daum.net/v/20210921190103948'\n",
        "res =  requests.get(url)\n",
        "html_text = res.text \n",
        "soup = bs4.BeautifulSoup(html_text, 'html.parser')\n",
        "\n",
        "tag_list = soup.select(\"section > span:nth-of-type(3))\")\n"
      ],
      "execution_count": 6,
      "outputs": []
    },
    {
      "cell_type": "markdown",
      "metadata": {
        "id": "VqQJsjrvxlc9"
      },
      "source": [
        "**3번 문제**\n",
        "\n",
        "* (url : https://news.v.daum.net/v/20210921190103948) '경제' 메뉴를 감싸고 있는 span태그를 반환하는 tag객체 생성하고자 한다.\n"
      ]
    },
    {
      "cell_type": "code",
      "metadata": {
        "colab": {
          "base_uri": "https://localhost:8080/",
          "height": 130
        },
        "id": "Qx3GLS2sxlpV",
        "outputId": "a44047b0-3c44-4087-87b8-e3a6c48a6475"
      },
      "source": [
        "import requests\n",
        "import bs4\n",
        "\n",
        "url =  'https://news.v.daum.net/v/20210921190103948'\n",
        "res =  requests.get(url)\n",
        "html_text = res.text \n",
        "soup = bs4.BeautifulSoup(html_text, 'html.parser')\n",
        "# tag = soup.select(\"div > ul > li > a > span:nth-of-type(4)\")\n",
        "tag = soup.select(\"div > ul > li > a > span.ir_wa)"
      ],
      "execution_count": null,
      "outputs": [
        {
          "output_type": "error",
          "ename": "SyntaxError",
          "evalue": "ignored",
          "traceback": [
            "\u001b[0;36m  File \u001b[0;32m\"<ipython-input-76-fbbd9f6f1435>\"\u001b[0;36m, line \u001b[0;32m9\u001b[0m\n\u001b[0;31m    tag = soup.select(\"div > ul > li > a > span.ir_wa)\u001b[0m\n\u001b[0m                                                      ^\u001b[0m\n\u001b[0;31mSyntaxError\u001b[0m\u001b[0;31m:\u001b[0m EOL while scanning string literal\n"
          ]
        }
      ]
    },
    {
      "cell_type": "markdown",
      "metadata": {
        "id": "-NsCiGVfvyUa"
      },
      "source": [
        "**4번 문제**\n",
        "\n",
        "* (url : https://news.v.daum.net/v/20210921190103948) 해당 웹페이지 사진 아래 본문 내용(단백질은 우리 몸에 꼭 필요한.... 정희은 기자 (eun@kormedi.com))은 모두 9개 p태그가 감싸고 있다.\n",
        "\n",
        "* select() 메서드를 사용하여 이들 9개의 p태그를 요소로 가지는 tag_list 객체를 생성한 후, for 구문으로 tag_list 객체의 요소를 하나씩 불러들여와 각각의 p태그 내용을 print()로 출력하는 코드를 완성하시오.\n",
        "\n"
      ]
    },
    {
      "cell_type": "code",
      "metadata": {
        "colab": {
          "base_uri": "https://localhost:8080/"
        },
        "id": "SnndERCcvyia",
        "outputId": "e5412e12-c683-4c96-e375-cff8246cf5ed"
      },
      "source": [
        "import requests\n",
        "import bs4\n",
        "\n",
        "url =  'https://news.v.daum.net/v/20210921190103948'\n",
        "res =  requests.get(url)\n",
        "html_text = res.text \n",
        "soup = bs4.BeautifulSoup(html_text, 'html.parser')\n",
        "tag_list = soup.select(\"section > p\")\n",
        "for x in tag_list :\n",
        "  tag_text = x.text\n",
        "  print(tag_text)"
      ],
      "execution_count": null,
      "outputs": [
        {
          "output_type": "stream",
          "name": "stdout",
          "text": [
            "단백질은 우리 몸에 꼭 필요한 영양소 중 하나로 신체의 성장과 발달에 중요한 역할을 한다. 가장 잘 알려진 단백질 공급원은 우리가 쉽게 접할 수 있는 달걀인데, 달걀 한 알에는 약 6g의 단백질이 들어있다. 하지만 달걀 외에도 그 이상으로 단백질을 섭취할 수 있는 식품이 여럿 있다. \n",
            "미국 온라인 건강정보 포털 웸엡디(WebMD)에 소개된 단백질이 풍부한 음식을 알아보자. \n",
            "1. 병아리콩 = 병아리콩 반 컵에는 단백질이 약 8g 들어있다. 이집트의 대중음식인 후무스를 만드는 베이스로 사용되는 병아리콩은 고대 이집트 때부터 사람들이 즐겨먹던 음식이다. 샐러드에 한 줌 넣어먹거나 수프로 만들어 먹을 수 있다. \n",
            "2. 코티지 치즈 = 코티지 치즈 반 컵에는 약 12g의 단백질이 들어있다. 코티지 치즈 자체의 맛이 강하지 않기 때문에 어떤 음식과도 잘 어울린다. 과일과 코티지 치즈를 함께 곁들여 먹으면 건강한 간식이 된다. 건강을 위해서 저지방 코티지 치즈를 먹도록 하자. \n",
            "3. 렌틸콩 = 렌틸콩 반 컵으로 약 8g의 단백질을 얻을 수 있다. 이는 살코기 스테이크 약 30g으로 섭취할 수 있는 단백질 양과 맞먹는다. 보통 콩보다 빨리 익고 불릴 필요가 없어 요리하기도 편하다. 여러 가지 색의 렌틸콩을 이용해 다양한 요리를 즐길 수 있다. 갈색은 야채버거에, 초록색은 샐러드에, 빨간색은 매운 커리에 활용해보라. \n",
            "4. 호박씨 = 껍질을 벗긴 호박씨 약 30g에는 8.5g가량의 단백질이 들어있다. 호박씨는 아연, 철분, 마그네슘, 칼륨, 셀레늄 등 다른 영양소도 함유하고 있다. 호박씨 한 줌을 사과와 함께 곁들여 먹으면 포만감이 있는 간식이 될 수 있다. 오트밀이나 그래놀라 등에 넣어 먹어도 좋다. \n",
            "5. 새우 = 새우 약 110g 정도에 17g이 넘는 단백질이 들어있다. 칼로리와 지방이 낮고 수은도 거의 들어있지 않다. 빵가루를 묻혀 튀긴 것보다 구워 먹는 것이 좋다. \n",
            "6. 육포 = 육포는 쇠고기를 얇게 저미어 말린 포이다. 육포 약 30g으로 최대 15g의 단백질을 섭취할 수 있다. 시중에 나온 육포의 경우 소금이나 설탕, 질산염과 같은 첨가물이 많이 들어있다. 식품 라벨을 확인해 나트륨, 설탕, 화학물질 등이 들어있지 않은지 체크하라. 직접 만들어 먹을 수도 있다. 요즘에는 쇠고기 외에 칠면조나 연어 등을 사용한 육포도 많다.\n",
            "정희은 기자 (eun@kormedi.com)\n"
          ]
        }
      ]
    },
    {
      "cell_type": "markdown",
      "metadata": {
        "id": "CroRXVrquFyB"
      },
      "source": [
        "5번 문제\n",
        "\n",
        "(url : https://news.v.daum.net/v/20210921190103948) 해당 웹페이지 사진을 다운로드 하려고 한다. \n",
        "\n",
        "os 모듈을 사용하여 저장할 이미지의 이름을 20210921190109275tvti.jpg라고 하려고 한다."
      ]
    },
    {
      "cell_type": "code",
      "metadata": {
        "colab": {
          "base_uri": "https://localhost:8080/"
        },
        "id": "aIlqzOAyuFf3",
        "outputId": "662ee4a8-975b-4f99-8329-461503e871a5"
      },
      "source": [
        "import urllib.request\n",
        "import bs4\n",
        "import os\n",
        "\n",
        "url = 'https://news.v.daum.net/v/20210921190103948'\n",
        "res = urllib.request.urlopen(url)\n",
        "html_text = res.read()\n",
        "soup = bs4.BeautifulSoup(html_text, 'html.parser')\n",
        "tag = soup.select_one('img.thumb_g_article')\n",
        "src = tag[\"src\"]\n",
        "urllib.request.urlretrieve(src, os.path.basename(src))"
      ],
      "execution_count": null,
      "outputs": [
        {
          "output_type": "execute_result",
          "data": {
            "text/plain": [
              "('20210921190109275tvti.jpg', <http.client.HTTPMessage at 0x7fb0d0dd0890>)"
            ]
          },
          "metadata": {},
          "execution_count": 17
        }
      ]
    },
    {
      "cell_type": "code",
      "metadata": {
        "id": "ultVjEN7hSqa"
      },
      "source": [
        ""
      ],
      "execution_count": null,
      "outputs": []
    }
  ]
}