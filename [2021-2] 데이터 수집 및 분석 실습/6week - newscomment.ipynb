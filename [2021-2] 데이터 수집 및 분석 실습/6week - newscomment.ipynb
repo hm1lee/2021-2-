{
  "nbformat": 4,
  "nbformat_minor": 0,
  "metadata": {
    "colab": {
      "name": "6week.ipynb",
      "provenance": [],
      "collapsed_sections": []
    },
    "kernelspec": {
      "name": "python3",
      "display_name": "Python 3"
    },
    "language_info": {
      "name": "python"
    }
  },
  "cells": [
    {
      "cell_type": "markdown",
      "metadata": {
        "id": "ny5V2ry0NPjg"
      },
      "source": [
        "### 6week. Selenium\n",
        "\n",
        "- 댓글의 더보기와 같은 경우 html의 변동을 잡아낼 수 있음\n",
        "\n",
        "- chrome web driver install : https://chromedriver.storage.googleapis.com/index.html?path=93.0.4577.63/"
      ]
    },
    {
      "cell_type": "markdown",
      "metadata": {
        "id": "2kfenf6PNUfh"
      },
      "source": [
        "#### 6-1. Selenium 패키지 설치 및 기초"
      ]
    },
    {
      "cell_type": "code",
      "metadata": {
        "colab": {
          "base_uri": "https://localhost:8080/"
        },
        "id": "GQQkSXpXNUEm",
        "outputId": "734fa09f-6f12-4b2f-cab4-56164397eef9"
      },
      "source": [
        "!pip install selenium\n",
        "!apt-get update\n",
        "!apt install chromium-chromedriver"
      ],
      "execution_count": null,
      "outputs": [
        {
          "output_type": "stream",
          "name": "stdout",
          "text": [
            "Collecting selenium\n",
            "  Downloading selenium-3.141.0-py2.py3-none-any.whl (904 kB)\n",
            "\u001b[?25l\r\u001b[K     |▍                               | 10 kB 32.8 MB/s eta 0:00:01\r\u001b[K     |▊                               | 20 kB 32.0 MB/s eta 0:00:01\r\u001b[K     |█                               | 30 kB 37.2 MB/s eta 0:00:01\r\u001b[K     |█▌                              | 40 kB 38.8 MB/s eta 0:00:01\r\u001b[K     |█▉                              | 51 kB 36.7 MB/s eta 0:00:01\r\u001b[K     |██▏                             | 61 kB 32.7 MB/s eta 0:00:01\r\u001b[K     |██▌                             | 71 kB 29.0 MB/s eta 0:00:01\r\u001b[K     |███                             | 81 kB 30.2 MB/s eta 0:00:01\r\u001b[K     |███▎                            | 92 kB 30.7 MB/s eta 0:00:01\r\u001b[K     |███▋                            | 102 kB 32.0 MB/s eta 0:00:01\r\u001b[K     |████                            | 112 kB 32.0 MB/s eta 0:00:01\r\u001b[K     |████▍                           | 122 kB 32.0 MB/s eta 0:00:01\r\u001b[K     |████▊                           | 133 kB 32.0 MB/s eta 0:00:01\r\u001b[K     |█████                           | 143 kB 32.0 MB/s eta 0:00:01\r\u001b[K     |█████▍                          | 153 kB 32.0 MB/s eta 0:00:01\r\u001b[K     |█████▉                          | 163 kB 32.0 MB/s eta 0:00:01\r\u001b[K     |██████▏                         | 174 kB 32.0 MB/s eta 0:00:01\r\u001b[K     |██████▌                         | 184 kB 32.0 MB/s eta 0:00:01\r\u001b[K     |██████▉                         | 194 kB 32.0 MB/s eta 0:00:01\r\u001b[K     |███████▎                        | 204 kB 32.0 MB/s eta 0:00:01\r\u001b[K     |███████▋                        | 215 kB 32.0 MB/s eta 0:00:01\r\u001b[K     |████████                        | 225 kB 32.0 MB/s eta 0:00:01\r\u001b[K     |████████▎                       | 235 kB 32.0 MB/s eta 0:00:01\r\u001b[K     |████████▊                       | 245 kB 32.0 MB/s eta 0:00:01\r\u001b[K     |█████████                       | 256 kB 32.0 MB/s eta 0:00:01\r\u001b[K     |█████████▍                      | 266 kB 32.0 MB/s eta 0:00:01\r\u001b[K     |█████████▉                      | 276 kB 32.0 MB/s eta 0:00:01\r\u001b[K     |██████████▏                     | 286 kB 32.0 MB/s eta 0:00:01\r\u001b[K     |██████████▌                     | 296 kB 32.0 MB/s eta 0:00:01\r\u001b[K     |██████████▉                     | 307 kB 32.0 MB/s eta 0:00:01\r\u001b[K     |███████████▎                    | 317 kB 32.0 MB/s eta 0:00:01\r\u001b[K     |███████████▋                    | 327 kB 32.0 MB/s eta 0:00:01\r\u001b[K     |████████████                    | 337 kB 32.0 MB/s eta 0:00:01\r\u001b[K     |████████████▎                   | 348 kB 32.0 MB/s eta 0:00:01\r\u001b[K     |████████████▊                   | 358 kB 32.0 MB/s eta 0:00:01\r\u001b[K     |█████████████                   | 368 kB 32.0 MB/s eta 0:00:01\r\u001b[K     |█████████████▍                  | 378 kB 32.0 MB/s eta 0:00:01\r\u001b[K     |█████████████▊                  | 389 kB 32.0 MB/s eta 0:00:01\r\u001b[K     |██████████████▏                 | 399 kB 32.0 MB/s eta 0:00:01\r\u001b[K     |██████████████▌                 | 409 kB 32.0 MB/s eta 0:00:01\r\u001b[K     |██████████████▉                 | 419 kB 32.0 MB/s eta 0:00:01\r\u001b[K     |███████████████▏                | 430 kB 32.0 MB/s eta 0:00:01\r\u001b[K     |███████████████▋                | 440 kB 32.0 MB/s eta 0:00:01\r\u001b[K     |████████████████                | 450 kB 32.0 MB/s eta 0:00:01\r\u001b[K     |████████████████▎               | 460 kB 32.0 MB/s eta 0:00:01\r\u001b[K     |████████████████▋               | 471 kB 32.0 MB/s eta 0:00:01\r\u001b[K     |█████████████████               | 481 kB 32.0 MB/s eta 0:00:01\r\u001b[K     |█████████████████▍              | 491 kB 32.0 MB/s eta 0:00:01\r\u001b[K     |█████████████████▊              | 501 kB 32.0 MB/s eta 0:00:01\r\u001b[K     |██████████████████▏             | 512 kB 32.0 MB/s eta 0:00:01\r\u001b[K     |██████████████████▌             | 522 kB 32.0 MB/s eta 0:00:01\r\u001b[K     |██████████████████▉             | 532 kB 32.0 MB/s eta 0:00:01\r\u001b[K     |███████████████████▏            | 542 kB 32.0 MB/s eta 0:00:01\r\u001b[K     |███████████████████▋            | 552 kB 32.0 MB/s eta 0:00:01\r\u001b[K     |████████████████████            | 563 kB 32.0 MB/s eta 0:00:01\r\u001b[K     |████████████████████▎           | 573 kB 32.0 MB/s eta 0:00:01\r\u001b[K     |████████████████████▋           | 583 kB 32.0 MB/s eta 0:00:01\r\u001b[K     |█████████████████████           | 593 kB 32.0 MB/s eta 0:00:01\r\u001b[K     |█████████████████████▍          | 604 kB 32.0 MB/s eta 0:00:01\r\u001b[K     |█████████████████████▊          | 614 kB 32.0 MB/s eta 0:00:01\r\u001b[K     |██████████████████████          | 624 kB 32.0 MB/s eta 0:00:01\r\u001b[K     |██████████████████████▌         | 634 kB 32.0 MB/s eta 0:00:01\r\u001b[K     |██████████████████████▉         | 645 kB 32.0 MB/s eta 0:00:01\r\u001b[K     |███████████████████████▏        | 655 kB 32.0 MB/s eta 0:00:01\r\u001b[K     |███████████████████████▌        | 665 kB 32.0 MB/s eta 0:00:01\r\u001b[K     |████████████████████████        | 675 kB 32.0 MB/s eta 0:00:01\r\u001b[K     |████████████████████████▎       | 686 kB 32.0 MB/s eta 0:00:01\r\u001b[K     |████████████████████████▋       | 696 kB 32.0 MB/s eta 0:00:01\r\u001b[K     |█████████████████████████       | 706 kB 32.0 MB/s eta 0:00:01\r\u001b[K     |█████████████████████████▍      | 716 kB 32.0 MB/s eta 0:00:01\r\u001b[K     |█████████████████████████▊      | 727 kB 32.0 MB/s eta 0:00:01\r\u001b[K     |██████████████████████████      | 737 kB 32.0 MB/s eta 0:00:01\r\u001b[K     |██████████████████████████▍     | 747 kB 32.0 MB/s eta 0:00:01\r\u001b[K     |██████████████████████████▉     | 757 kB 32.0 MB/s eta 0:00:01\r\u001b[K     |███████████████████████████▏    | 768 kB 32.0 MB/s eta 0:00:01\r\u001b[K     |███████████████████████████▌    | 778 kB 32.0 MB/s eta 0:00:01\r\u001b[K     |████████████████████████████    | 788 kB 32.0 MB/s eta 0:00:01\r\u001b[K     |████████████████████████████▎   | 798 kB 32.0 MB/s eta 0:00:01\r\u001b[K     |████████████████████████████▋   | 808 kB 32.0 MB/s eta 0:00:01\r\u001b[K     |█████████████████████████████   | 819 kB 32.0 MB/s eta 0:00:01\r\u001b[K     |█████████████████████████████▍  | 829 kB 32.0 MB/s eta 0:00:01\r\u001b[K     |█████████████████████████████▊  | 839 kB 32.0 MB/s eta 0:00:01\r\u001b[K     |██████████████████████████████  | 849 kB 32.0 MB/s eta 0:00:01\r\u001b[K     |██████████████████████████████▍ | 860 kB 32.0 MB/s eta 0:00:01\r\u001b[K     |██████████████████████████████▉ | 870 kB 32.0 MB/s eta 0:00:01\r\u001b[K     |███████████████████████████████▏| 880 kB 32.0 MB/s eta 0:00:01\r\u001b[K     |███████████████████████████████▌| 890 kB 32.0 MB/s eta 0:00:01\r\u001b[K     |███████████████████████████████▉| 901 kB 32.0 MB/s eta 0:00:01\r\u001b[K     |████████████████████████████████| 904 kB 32.0 MB/s \n",
            "\u001b[?25hRequirement already satisfied: urllib3 in /usr/local/lib/python3.7/dist-packages (from selenium) (1.24.3)\n",
            "Installing collected packages: selenium\n",
            "Successfully installed selenium-3.141.0\n",
            "Get:1 http://security.ubuntu.com/ubuntu bionic-security InRelease [88.7 kB]\n",
            "Get:2 https://cloud.r-project.org/bin/linux/ubuntu bionic-cran40/ InRelease [3,626 B]\n",
            "Ign:3 https://developer.download.nvidia.com/compute/cuda/repos/ubuntu1804/x86_64  InRelease\n",
            "Get:4 http://ppa.launchpad.net/c2d4u.team/c2d4u4.0+/ubuntu bionic InRelease [15.9 kB]\n",
            "Hit:5 http://archive.ubuntu.com/ubuntu bionic InRelease\n",
            "Ign:6 https://developer.download.nvidia.com/compute/machine-learning/repos/ubuntu1804/x86_64  InRelease\n",
            "Get:7 http://archive.ubuntu.com/ubuntu bionic-updates InRelease [88.7 kB]\n",
            "Hit:8 https://developer.download.nvidia.com/compute/cuda/repos/ubuntu1804/x86_64  Release\n",
            "Hit:9 https://developer.download.nvidia.com/compute/machine-learning/repos/ubuntu1804/x86_64  Release\n",
            "Hit:10 http://ppa.launchpad.net/cran/libgit2/ubuntu bionic InRelease\n",
            "Get:11 http://security.ubuntu.com/ubuntu bionic-security/main amd64 Packages [2,365 kB]\n",
            "Get:12 http://archive.ubuntu.com/ubuntu bionic-backports InRelease [74.6 kB]\n",
            "Get:13 http://ppa.launchpad.net/deadsnakes/ppa/ubuntu bionic InRelease [15.9 kB]\n",
            "Get:14 http://security.ubuntu.com/ubuntu bionic-security/universe amd64 Packages [1,430 kB]\n",
            "Hit:15 http://ppa.launchpad.net/graphics-drivers/ppa/ubuntu bionic InRelease\n",
            "Get:16 http://ppa.launchpad.net/c2d4u.team/c2d4u4.0+/ubuntu bionic/main Sources [1,802 kB]\n",
            "Get:19 http://ppa.launchpad.net/c2d4u.team/c2d4u4.0+/ubuntu bionic/main amd64 Packages [922 kB]\n",
            "Get:20 http://archive.ubuntu.com/ubuntu bionic-updates/main amd64 Packages [2,801 kB]\n",
            "Get:21 http://archive.ubuntu.com/ubuntu bionic-updates/universe amd64 Packages [2,209 kB]\n",
            "Get:22 http://ppa.launchpad.net/deadsnakes/ppa/ubuntu bionic/main amd64 Packages [40.8 kB]\n",
            "Fetched 11.9 MB in 3s (4,181 kB/s)\n",
            "Reading package lists... Done\n",
            "Reading package lists... Done\n",
            "Building dependency tree       \n",
            "Reading state information... Done\n",
            "The following additional packages will be installed:\n",
            "  chromium-browser chromium-browser-l10n chromium-codecs-ffmpeg-extra\n",
            "Suggested packages:\n",
            "  webaccounts-chromium-extension unity-chromium-extension\n",
            "The following NEW packages will be installed:\n",
            "  chromium-browser chromium-browser-l10n chromium-chromedriver\n",
            "  chromium-codecs-ffmpeg-extra\n",
            "0 upgraded, 4 newly installed, 0 to remove and 37 not upgraded.\n",
            "Need to get 92.6 MB of archives.\n",
            "After this operation, 317 MB of additional disk space will be used.\n",
            "Get:1 http://archive.ubuntu.com/ubuntu bionic-updates/universe amd64 chromium-codecs-ffmpeg-extra amd64 93.0.4577.63-0ubuntu0.18.04.1 [1,135 kB]\n",
            "Get:2 http://archive.ubuntu.com/ubuntu bionic-updates/universe amd64 chromium-browser amd64 93.0.4577.63-0ubuntu0.18.04.1 [82.4 MB]\n",
            "Get:3 http://archive.ubuntu.com/ubuntu bionic-updates/universe amd64 chromium-browser-l10n all 93.0.4577.63-0ubuntu0.18.04.1 [4,133 kB]\n",
            "Get:4 http://archive.ubuntu.com/ubuntu bionic-updates/universe amd64 chromium-chromedriver amd64 93.0.4577.63-0ubuntu0.18.04.1 [4,961 kB]\n",
            "Fetched 92.6 MB in 3s (28.9 MB/s)\n",
            "Selecting previously unselected package chromium-codecs-ffmpeg-extra.\n",
            "(Reading database ... 155047 files and directories currently installed.)\n",
            "Preparing to unpack .../chromium-codecs-ffmpeg-extra_93.0.4577.63-0ubuntu0.18.04.1_amd64.deb ...\n",
            "Unpacking chromium-codecs-ffmpeg-extra (93.0.4577.63-0ubuntu0.18.04.1) ...\n",
            "Selecting previously unselected package chromium-browser.\n",
            "Preparing to unpack .../chromium-browser_93.0.4577.63-0ubuntu0.18.04.1_amd64.deb ...\n",
            "Unpacking chromium-browser (93.0.4577.63-0ubuntu0.18.04.1) ...\n",
            "Selecting previously unselected package chromium-browser-l10n.\n",
            "Preparing to unpack .../chromium-browser-l10n_93.0.4577.63-0ubuntu0.18.04.1_all.deb ...\n",
            "Unpacking chromium-browser-l10n (93.0.4577.63-0ubuntu0.18.04.1) ...\n",
            "Selecting previously unselected package chromium-chromedriver.\n",
            "Preparing to unpack .../chromium-chromedriver_93.0.4577.63-0ubuntu0.18.04.1_amd64.deb ...\n",
            "Unpacking chromium-chromedriver (93.0.4577.63-0ubuntu0.18.04.1) ...\n",
            "Setting up chromium-codecs-ffmpeg-extra (93.0.4577.63-0ubuntu0.18.04.1) ...\n",
            "Setting up chromium-browser (93.0.4577.63-0ubuntu0.18.04.1) ...\n",
            "update-alternatives: using /usr/bin/chromium-browser to provide /usr/bin/x-www-browser (x-www-browser) in auto mode\n",
            "update-alternatives: using /usr/bin/chromium-browser to provide /usr/bin/gnome-www-browser (gnome-www-browser) in auto mode\n",
            "Setting up chromium-chromedriver (93.0.4577.63-0ubuntu0.18.04.1) ...\n",
            "Setting up chromium-browser-l10n (93.0.4577.63-0ubuntu0.18.04.1) ...\n",
            "Processing triggers for man-db (2.8.3-2ubuntu0.1) ...\n",
            "Processing triggers for hicolor-icon-theme (0.17-2) ...\n",
            "Processing triggers for mime-support (3.60ubuntu1) ...\n",
            "Processing triggers for libc-bin (2.27-3ubuntu1.3) ...\n",
            "/sbin/ldconfig.real: /usr/local/lib/python3.7/dist-packages/ideep4py/lib/libmkldnn.so.0 is not a symbolic link\n",
            "\n"
          ]
        }
      ]
    },
    {
      "cell_type": "code",
      "metadata": {
        "id": "4d614y8kQ83L"
      },
      "source": [
        "import selenium\n",
        "from selenium import webdriver #특정 모듈에서 특정 패키지만 사용할 경우\n",
        "from bs4 import BeautifulSoup"
      ],
      "execution_count": null,
      "outputs": []
    },
    {
      "cell_type": "markdown",
      "metadata": {
        "id": "qtXx25gwNcEA"
      },
      "source": [
        "#### 6-2. Selenium을 사용한 댓글 크롤링"
      ]
    },
    {
      "cell_type": "code",
      "metadata": {
        "id": "hUPIYOaaLgaO"
      },
      "source": [
        "import selenium\n",
        "from selenium import webdriver\n",
        "import time\n",
        "\n",
        "\n",
        "# 맨 앞에 r을 붙이는 것이 중요!\n",
        "wd = webdriver.Chrome(r'C:\\Users\\nm1le\\Desktop\\2021년 2학기\\[2021-2] 데이터 수집 및 분석 실습\\chromedriver')\n",
        "url = \"https://news.v.daum.net/v/20210927220302143\"\n",
        "\n",
        "# url을 열어놓은 크롬 브라우징 기능을 가지는 드라이버 객체가 생성된다.\n",
        "wd.get(url)\n",
        "\n",
        "# 드라이버로 웹을 여는 사이에 아래 코드를 모두 실행하면 결과가 나오지 않을 수 있음\n",
        "# 따라서 time을 걸어주는 것도 방법!\n",
        "time.sleep(1)\n",
        "\n",
        "# css 선택자로 요소를 선택\n",
        "news = wd.find_element_by_css_selector(\"a.link_cp>img.thumb_g\")\n",
        "news = news.get_attribute(\"alt\")\n",
        "title = wd.find_element_by_css_selector(\"h3.tit_view\")\n",
        "\n",
        "#h3.title_view의 내용을 크롤링\n",
        "title_text = title.text\n",
        "\n",
        "print(news)\n",
        "print(title_text)\n",
        "\n",
        "# element = 1개 / elements = 여러개, 해당되는 모든 것\n",
        "replys = wd.find_elements_by_css_selector(\"ul.list_comment>li>div.cmt_info\")\n",
        "\n",
        "for tag in replys:\n",
        "    # 이름 추출\n",
        "    cname = tag.find_element_by_css_selector(\"a.link_nick>span:nth-child(2)\")\n",
        "    cname = cname.text\n",
        "    # 시간 추출\n",
        "    ctime = tag.find_element_by_css_selector(\"span.txt_date\")\n",
        "    ctime = ctime.text\n",
        "    # 댓글 추출\n",
        "    comment = tag.find_element_by_css_selector(\"p.desc_txt\")\n",
        "    comment = comment.text\n",
        "    # 찬성 수 추출\n",
        "    like = tag.find_element_by_css_selector(\"button.btn_recomm>span.num_txt\")\n",
        "    like=like.text\n",
        "    # 반성 수 추출\n",
        "    dislike = tag.find_element_by_css_selector(\"button.btn_oppose>span.num_txt\")\n",
        "    dislike =dislike.text\n",
        "    print(cname, ctime, comment,like, dislike)\n",
        "\n"
      ],
      "execution_count": null,
      "outputs": []
    },
    {
      "cell_type": "markdown",
      "metadata": {
        "id": "25iTLumpNhfu"
      },
      "source": [
        "#### 6-3. 댓글 더보기 클릭"
      ]
    },
    {
      "cell_type": "code",
      "metadata": {
        "id": "DV-nWFyGNj-0"
      },
      "source": [
        "import selenium\n",
        "from selenium import webdriver\n",
        "import time\n",
        "\n",
        "\n",
        "# 맨 앞에 r을 붙이는 것이 중요!\n",
        "wd = webdriver.Chrome(r'C:\\Users\\nm1le\\Desktop\\2021년 2학기\\[2021-2] 데이터 수집 및 분석 실습\\chromedriver')\n",
        "url = \"https://news.v.daum.net/v/20210927220302143\"\n",
        "\n",
        "# url을 열어놓은 크롬 브라우징 기능을 가지는 드라이버 객체가 생성된다.\n",
        "wd.get(url)\n",
        "\n",
        "# 드라이버로 웹을 여는 사이에 아래 코드를 모두 실행하면 결과가 나오지 않을 수 있음\n",
        "# 따라서 time을 걸어주는 것도 방법!\n",
        "time.sleep(1)\n",
        "\n",
        "# 뉴스 채널 및 제목\n",
        "news = wd.find_element_by_css_selector(\"a.link_cp>img.thumb_g\")\n",
        "news = news.get_attribute(\"alt\")\n",
        "title = wd.find_element_by_css_selector(\"h3.tit_view\")\n",
        "\n",
        "#h3.title_view의 내용을 크롤링\n",
        "title_text = title.text\n",
        "\n",
        "print(news, title_text)\n",
        "\n",
        "# 댓글 크롤링 - 찬반순\n",
        "# 1. 댓글을 찬반순으로 세팅\n",
        "# 2. 댓글이 끝까지 나올 때 까지 더보기를 누름\n",
        "# 3. 더보기는 tag.click을 사용하여 추가될 수 있도록 한다.\n",
        "\n",
        "order_agree = wd.find_element_by_css_selector(\"ul.list_category > li:nth-child(2) > button\")\n",
        "order_agree.click() #찬반순으로 보드체가 났음을 확인할 수 있음\n",
        "time.sleep(1)\n",
        "\n",
        "more_view = wd.find_element_by_css_selector(\"div.alex_more>button.link_fold\")\n",
        "more_view.click()\n",
        "time.sleep(1)\n",
        "\n"
      ],
      "execution_count": null,
      "outputs": []
    }
  ]
}