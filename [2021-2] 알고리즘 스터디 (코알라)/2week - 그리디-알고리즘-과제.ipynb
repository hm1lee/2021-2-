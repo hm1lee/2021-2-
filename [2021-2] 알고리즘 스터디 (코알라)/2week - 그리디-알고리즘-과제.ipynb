{
  "nbformat": 4,
  "nbformat_minor": 0,
  "metadata": {
    "colab": {
      "name": "2week - 그리디 알고리즘 과제.ipynb",
      "provenance": []
    },
    "kernelspec": {
      "name": "python3",
      "display_name": "Python 3"
    },
    "language_info": {
      "name": "python"
    }
  },
  "cells": [
    {
      "cell_type": "markdown",
      "metadata": {
        "id": "qvAHFLzxm4n5"
      },
      "source": [
        "## 1. Greedy Algorithm - 문자열 뒤집기"
      ]
    },
    {
      "cell_type": "markdown",
      "metadata": {
        "id": "Ddi7YgmcnCMI"
      },
      "source": [
        "[문제]\n",
        "\n",
        "다솜이는 0과 1로만 이루어진 문자열 S를 가지고 있습니다.\n",
        "\n",
        "다솜이는 이 문자열 S에 있는 모든 숫자를 전부 같게 만들려고 합니다.\n",
        "\n",
        "​\n",
        "\n",
        "문자열 S는 2진수, 0과 1로만 구성되어 있으며 목표는 모든 문자열 S의 값이 한가지의 값으로 전부 같도록 하는 것 입니다.\n",
        "\n",
        "다솜이가 할 수 있는 행동은 S에서 연속된 하나 이상의 수를 골라 모두 뒤집는 것 입니다. (0이면 1로, 1이면 0으로)\n",
        "\n",
        "​\n",
        "\n",
        "​\n",
        "\n",
        "[입력 조건]\n",
        "\n",
        "- 첫째 줄에 0과 1로만 이루어진 문자열 S가 주어집니다. S의 길이는 100만보다 작습니다.\n",
        "\n",
        "​\n",
        "\n",
        "[출력 조건]\n",
        "\n",
        "- 첫째 줄에 다솜이가 해야 하는 행동의 최소 횟수를 출력합니다.\n",
        "\n",
        "​\n",
        "​\n",
        "\n",
        "[문제 풀이]\n",
        "\n",
        "- 전부 0으로 바꾸는 케이스, 전부 1로 바꾸는 케이스 중 더 적은 횟수를 가지는 경우를 계산하면 됩니다."
      ]
    },
    {
      "cell_type": "code",
      "metadata": {
        "colab": {
          "base_uri": "https://localhost:8080/"
        },
        "id": "wtAIf3WpnByD",
        "outputId": "b74eef45-5757-46a8-9c79-e718165e4b78"
      },
      "source": [
        "data = input()\n",
        "count0 = 0 #전부 0으로 바꾸는 경우\n",
        "count1 = 0 #전부 1로 바꾸는 경우\n",
        "\n",
        "if data[0] == '1':\n",
        "    count0 += 1\n",
        "else:\n",
        "    count1 +=1\n",
        "\n",
        "# 두번째 원소부터 모든 원소를 확인해보기\n",
        "for i in range(len(data) -1):\n",
        "    if data[i] != data[i+1]:\n",
        "         # 다음 수에서 1로 바뀌는 경우\n",
        "              if data[i+1] == '1':\n",
        "                   count0 += 1\n",
        "         # 다음 수에서 0으로 바뀌는 경우\n",
        "              else :\n",
        "                   count1 += 1\n",
        "\n",
        "print(min(count0, count1))\n"
      ],
      "execution_count": 2,
      "outputs": [
        {
          "output_type": "stream",
          "name": "stdout",
          "text": [
            "110001100\n",
            "2\n"
          ]
        }
      ]
    },
    {
      "cell_type": "markdown",
      "metadata": {
        "id": "OzcV9_o5m-Ne"
      },
      "source": [
        "## 2. Greedy Algorithm - 모험가 길드"
      ]
    },
    {
      "cell_type": "markdown",
      "metadata": {
        "id": "J7pQzkzhnCmt"
      },
      "source": [
        "[문제]\n",
        "\n",
        "한 마을에 모험가가 N명 있습니다.  모험가 길드에서는 N명의 모험가를 대상으로 '공포도'를 측정했습니다.\n",
        "\n",
        "'공포도'가 높은 모험가는 쉽게 공포를 느껴 위험 상황에서 제대로 대처할 능력이 떨어집니다.\n",
        "\n",
        "​\n",
        "\n",
        "모험가 길드장인 동빈이는 모험가 그룹을 안전하게 구성하고자 공포도가 X인 모험가는 반드신 X명 이상으로 구성한\n",
        "\n",
        "모험가 그룹에 참여해야 여행을 떠날 수 있다고 합니다.\n",
        "\n",
        "동빈이는 최대 몇 개의 모험가 그룹을 만들 수 있을까요?\n",
        "\n",
        "​\n",
        "\n",
        "\n",
        "[입력 조건]\n",
        "\n",
        "- 첫째 줄에 모험가의 수 N이 주어집니다. ( N은 1 이상 100,000 이하 )\n",
        "\n",
        "- 둘쨰 줄에 각 모험가의 공포도의 값을 N 이하의 자연수로 주어지며, 각 자연수는 공백으로 구분합니다.\n",
        "\n",
        "​\n",
        "\n",
        "[출력 조건]\n",
        "\n",
        "- 여행을 떠날 수 있는 그룹 수의 최댓값을 출력합니다.​\n",
        "\n",
        "​\n",
        "\n",
        "[문제 풀이]\n",
        "\n",
        "- 공포도를 기준으로 sort( ) 함수를 사용하여 오름차순 정렬을 진행한다. \n",
        "\n",
        "-> 오름차순을 적용한 이유\n",
        "\n",
        "- 현재 문제에서 출력 조건으로 여행을 떠날 수 있는 그룹이 최대한 많았으면~ 따라서 최댓값을 출력하라고 제시하고 있다.\n",
        "\n",
        "   따라서, 최소한의 공포도를 가지고 있는 인원 먼저 그룹으로 묶는 것이 떠날 수 있는 여행 그룹을 최대한 많이 만드는 방법!\n",
        "\n",
        "​"
      ]
    },
    {
      "cell_type": "code",
      "metadata": {
        "colab": {
          "base_uri": "https://localhost:8080/"
        },
        "id": "ZYrb3Kb6nC5c",
        "outputId": "e916dd93-67da-4377-c1c0-85bf90a54db8"
      },
      "source": [
        "n = int(input( ))\n",
        "data = list(map(int, input().split()))\n",
        "data.sort() #데이터 오름차순 정렬\n",
        "\n",
        "result = 0 # 여행을 떠날 그룹의 수\n",
        "count = 0 # 현재 그룹에 포함된 모험가의 수\n",
        "\n",
        "for i in data:\n",
        "   count += 1\n",
        "   if count >= i:\n",
        "      result += 1\n",
        "      count = 0\n",
        "\n",
        "print(result)\n"
      ],
      "execution_count": 4,
      "outputs": [
        {
          "output_type": "stream",
          "name": "stdout",
          "text": [
            "5\n",
            "2 3 1 2 2\n",
            "2\n"
          ]
        }
      ]
    },
    {
      "cell_type": "code",
      "metadata": {
        "id": "qM0UjTYPm1FX"
      },
      "source": [
        ""
      ],
      "execution_count": null,
      "outputs": []
    }
  ]
}
