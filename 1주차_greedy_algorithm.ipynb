{
  "nbformat": 4,
  "nbformat_minor": 0,
  "metadata": {
    "colab": {
      "name": "1주차 greedy algorithm.ipynb",
      "provenance": []
    },
    "kernelspec": {
      "name": "python3",
      "display_name": "Python 3"
    },
    "language_info": {
      "name": "python"
    }
  },
  "cells": [
    {
      "cell_type": "markdown",
      "metadata": {
        "id": "OJOPs6TOo-x7"
      },
      "source": [
        "## 1번 예제. 거스름돈 개수 구하기"
      ]
    },
    {
      "cell_type": "code",
      "metadata": {
        "colab": {
          "base_uri": "https://localhost:8080/"
        },
        "id": "2BH8rIhEo7lZ",
        "outputId": "e33161ac-1211-48be-bb8b-1ef79257dd7d"
      },
      "source": [
        "# n이 1260일 경우?\n",
        "\n",
        "n = 1260\n",
        "count = 0\n",
        "\n",
        "# 큰 단위 화폐부터 차례대로 확인\n",
        "coin_types = [500, 100, 50, 10]\n",
        "\n",
        "for coin in coin_types : \n",
        "  count += n // coin # 해당 화페로 거슬러 줄 수 있는 동전의 개수 새기\n",
        "  n %= coin # n = n % coin\n",
        "\n",
        "print(count)\n"
      ],
      "execution_count": 1,
      "outputs": [
        {
          "output_type": "stream",
          "name": "stdout",
          "text": [
            "6\n"
          ]
        }
      ]
    },
    {
      "cell_type": "markdown",
      "metadata": {
        "id": "WjAk5DJpFeTD"
      },
      "source": [
        "## 2번 예제. 큰 수의 법칙"
      ]
    },
    {
      "cell_type": "code",
      "metadata": {
        "colab": {
          "base_uri": "https://localhost:8080/"
        },
        "id": "Ri2vjgKuFejy",
        "outputId": "7fa2302c-9031-4aa6-cc0f-5c8e5ed16d68"
      },
      "source": [
        "# N, M, K를 공백으로 받기\n",
        "n,m,k = map(int, input().split())\n",
        "# N개의 수를 공백으로 구분하여 입력받기\n",
        "data = list(map(int, input().split()))\n",
        "\n",
        "\n",
        "data.sort() #입력받은 수 정렬하기\n",
        "first = data[n-1] #가장 큰 수\n",
        "second = data[n-2]\n",
        "\n",
        "result = 0\n",
        "\n",
        "while True : \n",
        "  for i in range(k): # 가장 큰 수를 k번 더하기\n",
        "    if m == 0:\n",
        "      break\n",
        "    result += first \n",
        "    m -= 1 # 더할 때 마다 1씩 빼기\n",
        "  if m == 0: # m이 0이라면 반복문 탈출\n",
        "    break\n",
        "  result += second # 두번재로 큰 수를 한 번 더하기\n",
        "  m -= 1 # 더할 때마다 1씩 빼기\n",
        "\n",
        "print(result) #최종 답안 출력"
      ],
      "execution_count": 9,
      "outputs": [
        {
          "output_type": "stream",
          "name": "stdout",
          "text": [
            "3 8 2\n",
            "3 9 7\n",
            "68\n"
          ]
        }
      ]
    },
    {
      "cell_type": "markdown",
      "metadata": {
        "id": "xAd8vtO9yvRt"
      },
      "source": [
        "## 3번 예제 - 1. min() 함수를 이용하는 답안"
      ]
    },
    {
      "cell_type": "code",
      "metadata": {
        "colab": {
          "base_uri": "https://localhost:8080/"
        },
        "id": "R2-eKcDGyyzg",
        "outputId": "a9845194-1eb5-4061-ae0b-8394ab2aa7e8"
      },
      "source": [
        "# N, M을 공백으로 구분하여 입력받기\n",
        "\n",
        "n, m = map(int, input().split())\n",
        "\n",
        "result = 0\n",
        "\n",
        "# 한 줄씩 입력받아 확인\n",
        "\n",
        "for i in range(n):\n",
        "  data = list(map(int, input().split())) #한 줄 입력받아 list로 배열 만들기\n",
        "  # 현재 줄에서 '가장 작은 수' 찾기\n",
        "  min_value = min(data)\n",
        "  # '가장 작은 수'들 중에서 가장 큰 수 찾기\n",
        "  # 만약 min_value값이 더 크다면 result값으로 지정 / 기존 result값이 더 크다면 그대로 result값 지정\n",
        "  result = max(result, min_value) \n",
        "\n",
        "print(result)"
      ],
      "execution_count": 4,
      "outputs": [
        {
          "output_type": "stream",
          "name": "stdout",
          "text": [
            "2 2\n",
            "1 2\n",
            "2 4\n",
            "2\n"
          ]
        }
      ]
    },
    {
      "cell_type": "markdown",
      "metadata": {
        "id": "LzB7lg4NyzcP"
      },
      "source": [
        "## 3번 예제 - 2. 이중 반복문 구조 이용하는 답안"
      ]
    },
    {
      "cell_type": "code",
      "metadata": {
        "colab": {
          "base_uri": "https://localhost:8080/"
        },
        "id": "Q8Erj0pRy3of",
        "outputId": "9fba10bc-0533-420a-d2a0-0111e3643c11"
      },
      "source": [
        "# N, M을 공백으로 구분하여 입력받기\n",
        "\n",
        "n, m = map(int, input().split())\n",
        "\n",
        "result = 0\n",
        "\n",
        "# 한 줄씩 입력받아 확인\n",
        "\n",
        "for i in range(n):\n",
        "  data = list(map(int, input().split())) #한 줄 입력받아 list로 배열 만들기\n",
        "  # 현재 줄에서 '가장 작은 수' 찾기\n",
        "  min_value = 10001\n",
        "  for a in data : \n",
        "    min_value = min(min_value, a)\n",
        "  \n",
        "  # '가장 작은 수'들 중에서 가장 큰 수 찾기\n",
        "  result = max(result, min_value)\n",
        "\n",
        "print(result) # 최종 답안 출력"
      ],
      "execution_count": 5,
      "outputs": [
        {
          "output_type": "stream",
          "name": "stdout",
          "text": [
            "3 3\n",
            "1 3 1\n",
            "2 5 3\n",
            "4 5 9\n",
            "4\n"
          ]
        }
      ]
    },
    {
      "cell_type": "markdown",
      "metadata": {
        "id": "txjFFao_6Ghr"
      },
      "source": [
        "## 4번 예제. 1이 될 때까지"
      ]
    },
    {
      "cell_type": "code",
      "metadata": {
        "colab": {
          "base_uri": "https://localhost:8080/"
        },
        "id": "FCyPQIvB0o5q",
        "outputId": "8a064b9d-c0ed-4752-8c5f-3eb7601e6c78"
      },
      "source": [
        "# n, k을 공백으로 구분하여 입력받기\n",
        "\n",
        "n, k = map(int, input().split())\n",
        "result = 0\n",
        "\n",
        "while True:\n",
        "  # (N == K로 나누어떨어지는 수)가 될 때까지 1씩 빼기\n",
        "  target = (n//k) * k  # 6, 4 -> target = 4\n",
        "  result += (n-target) # 6 - 4 = 2 / 1빼기가 2번 수행되었다고 볼 수 있음\n",
        "  n = target\n",
        "\n",
        "  # N이 K보다 작을 때 (더 이상 나눌 수 없을 때) 반복문 탈출\n",
        "  if n < k:\n",
        "    break\n",
        "  result += 1\n",
        "  n //= k\n",
        "\n",
        "# 마지막으로 남은 수에 대해서 1씩 빼기\n",
        "result += (n-1)\n",
        "print(result)\n"
      ],
      "execution_count": 7,
      "outputs": [
        {
          "output_type": "stream",
          "name": "stdout",
          "text": [
            "3 15\n",
            "2\n"
          ]
        }
      ]
    }
  ]
}